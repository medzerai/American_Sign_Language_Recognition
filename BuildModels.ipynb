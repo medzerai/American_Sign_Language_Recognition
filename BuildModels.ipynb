{
 "cells": [
  {
   "cell_type": "code",
   "execution_count": 2,
   "id": "3aec8f16",
   "metadata": {},
   "outputs": [],
   "source": [
    "import tensorflow as tf\n",
    "import numpy as np\n",
    "import matplotlib.pyplot as plt\n",
    "import pandas as pd\n",
    "import random\n",
    "from tensorflow.keras.utils import to_categorical"
   ]
  },
  {
   "cell_type": "code",
   "execution_count": 3,
   "id": "09d8a4b4",
   "metadata": {},
   "outputs": [],
   "source": [
    "train=pd.read_csv('./Sign Language MNIST/sign_mnist_train.csv')#lecture de fichier train\n",
    "test=pd.read_csv('./Sign Language MNIST/sign_mnist_test.csv')#lecture de fichier test"
   ]
  },
  {
   "cell_type": "code",
   "execution_count": 4,
   "id": "0dfda4d5",
   "metadata": {},
   "outputs": [
    {
     "data": {
      "text/html": [
       "<div>\n",
       "<style scoped>\n",
       "    .dataframe tbody tr th:only-of-type {\n",
       "        vertical-align: middle;\n",
       "    }\n",
       "\n",
       "    .dataframe tbody tr th {\n",
       "        vertical-align: top;\n",
       "    }\n",
       "\n",
       "    .dataframe thead th {\n",
       "        text-align: right;\n",
       "    }\n",
       "</style>\n",
       "<table border=\"1\" class=\"dataframe\">\n",
       "  <thead>\n",
       "    <tr style=\"text-align: right;\">\n",
       "      <th></th>\n",
       "      <th>label</th>\n",
       "      <th>pixel1</th>\n",
       "      <th>pixel2</th>\n",
       "      <th>pixel3</th>\n",
       "      <th>pixel4</th>\n",
       "      <th>pixel5</th>\n",
       "      <th>pixel6</th>\n",
       "      <th>pixel7</th>\n",
       "      <th>pixel8</th>\n",
       "      <th>pixel9</th>\n",
       "      <th>...</th>\n",
       "      <th>pixel775</th>\n",
       "      <th>pixel776</th>\n",
       "      <th>pixel777</th>\n",
       "      <th>pixel778</th>\n",
       "      <th>pixel779</th>\n",
       "      <th>pixel780</th>\n",
       "      <th>pixel781</th>\n",
       "      <th>pixel782</th>\n",
       "      <th>pixel783</th>\n",
       "      <th>pixel784</th>\n",
       "    </tr>\n",
       "  </thead>\n",
       "  <tbody>\n",
       "    <tr>\n",
       "      <th>0</th>\n",
       "      <td>3</td>\n",
       "      <td>107</td>\n",
       "      <td>118</td>\n",
       "      <td>127</td>\n",
       "      <td>134</td>\n",
       "      <td>139</td>\n",
       "      <td>143</td>\n",
       "      <td>146</td>\n",
       "      <td>150</td>\n",
       "      <td>153</td>\n",
       "      <td>...</td>\n",
       "      <td>207</td>\n",
       "      <td>207</td>\n",
       "      <td>207</td>\n",
       "      <td>207</td>\n",
       "      <td>206</td>\n",
       "      <td>206</td>\n",
       "      <td>206</td>\n",
       "      <td>204</td>\n",
       "      <td>203</td>\n",
       "      <td>202</td>\n",
       "    </tr>\n",
       "    <tr>\n",
       "      <th>1</th>\n",
       "      <td>6</td>\n",
       "      <td>155</td>\n",
       "      <td>157</td>\n",
       "      <td>156</td>\n",
       "      <td>156</td>\n",
       "      <td>156</td>\n",
       "      <td>157</td>\n",
       "      <td>156</td>\n",
       "      <td>158</td>\n",
       "      <td>158</td>\n",
       "      <td>...</td>\n",
       "      <td>69</td>\n",
       "      <td>149</td>\n",
       "      <td>128</td>\n",
       "      <td>87</td>\n",
       "      <td>94</td>\n",
       "      <td>163</td>\n",
       "      <td>175</td>\n",
       "      <td>103</td>\n",
       "      <td>135</td>\n",
       "      <td>149</td>\n",
       "    </tr>\n",
       "    <tr>\n",
       "      <th>2</th>\n",
       "      <td>2</td>\n",
       "      <td>187</td>\n",
       "      <td>188</td>\n",
       "      <td>188</td>\n",
       "      <td>187</td>\n",
       "      <td>187</td>\n",
       "      <td>186</td>\n",
       "      <td>187</td>\n",
       "      <td>188</td>\n",
       "      <td>187</td>\n",
       "      <td>...</td>\n",
       "      <td>202</td>\n",
       "      <td>201</td>\n",
       "      <td>200</td>\n",
       "      <td>199</td>\n",
       "      <td>198</td>\n",
       "      <td>199</td>\n",
       "      <td>198</td>\n",
       "      <td>195</td>\n",
       "      <td>194</td>\n",
       "      <td>195</td>\n",
       "    </tr>\n",
       "    <tr>\n",
       "      <th>3</th>\n",
       "      <td>2</td>\n",
       "      <td>211</td>\n",
       "      <td>211</td>\n",
       "      <td>212</td>\n",
       "      <td>212</td>\n",
       "      <td>211</td>\n",
       "      <td>210</td>\n",
       "      <td>211</td>\n",
       "      <td>210</td>\n",
       "      <td>210</td>\n",
       "      <td>...</td>\n",
       "      <td>235</td>\n",
       "      <td>234</td>\n",
       "      <td>233</td>\n",
       "      <td>231</td>\n",
       "      <td>230</td>\n",
       "      <td>226</td>\n",
       "      <td>225</td>\n",
       "      <td>222</td>\n",
       "      <td>229</td>\n",
       "      <td>163</td>\n",
       "    </tr>\n",
       "    <tr>\n",
       "      <th>4</th>\n",
       "      <td>13</td>\n",
       "      <td>164</td>\n",
       "      <td>167</td>\n",
       "      <td>170</td>\n",
       "      <td>172</td>\n",
       "      <td>176</td>\n",
       "      <td>179</td>\n",
       "      <td>180</td>\n",
       "      <td>184</td>\n",
       "      <td>185</td>\n",
       "      <td>...</td>\n",
       "      <td>92</td>\n",
       "      <td>105</td>\n",
       "      <td>105</td>\n",
       "      <td>108</td>\n",
       "      <td>133</td>\n",
       "      <td>163</td>\n",
       "      <td>157</td>\n",
       "      <td>163</td>\n",
       "      <td>164</td>\n",
       "      <td>179</td>\n",
       "    </tr>\n",
       "  </tbody>\n",
       "</table>\n",
       "<p>5 rows × 785 columns</p>\n",
       "</div>"
      ],
      "text/plain": [
       "   label  pixel1  pixel2  pixel3  pixel4  pixel5  pixel6  pixel7  pixel8  \\\n",
       "0      3     107     118     127     134     139     143     146     150   \n",
       "1      6     155     157     156     156     156     157     156     158   \n",
       "2      2     187     188     188     187     187     186     187     188   \n",
       "3      2     211     211     212     212     211     210     211     210   \n",
       "4     13     164     167     170     172     176     179     180     184   \n",
       "\n",
       "   pixel9  ...  pixel775  pixel776  pixel777  pixel778  pixel779  pixel780  \\\n",
       "0     153  ...       207       207       207       207       206       206   \n",
       "1     158  ...        69       149       128        87        94       163   \n",
       "2     187  ...       202       201       200       199       198       199   \n",
       "3     210  ...       235       234       233       231       230       226   \n",
       "4     185  ...        92       105       105       108       133       163   \n",
       "\n",
       "   pixel781  pixel782  pixel783  pixel784  \n",
       "0       206       204       203       202  \n",
       "1       175       103       135       149  \n",
       "2       198       195       194       195  \n",
       "3       225       222       229       163  \n",
       "4       157       163       164       179  \n",
       "\n",
       "[5 rows x 785 columns]"
      ]
     },
     "execution_count": 4,
     "metadata": {},
     "output_type": "execute_result"
    }
   ],
   "source": [
    "train.head() # afficher les 5 premières lignes"
   ]
  },
  {
   "cell_type": "code",
   "execution_count": 5,
   "id": "42c2337d",
   "metadata": {},
   "outputs": [],
   "source": [
    "features=np.array(train.columns[1:]) # choisir les features (colonnes de X)\n",
    "label=np.array(train.columns[0]) # choisir label (colonne de y)"
   ]
  },
  {
   "cell_type": "code",
   "execution_count": 6,
   "id": "aa2e5fe6",
   "metadata": {},
   "outputs": [],
   "source": [
    "# mettre le dataframe en variables\n",
    "\n",
    "x_train=np.array(train[features])\n",
    "y_train=np.array(train[label])\n",
    "x_test=np.array(test[features])\n",
    "y_test=np.array(test[label])\n"
   ]
  },
  {
   "cell_type": "code",
   "execution_count": 7,
   "id": "901ebb2a",
   "metadata": {},
   "outputs": [],
   "source": [
    "# fixer les types de variable\n",
    "\n",
    "train_data_np = np.array(train, dtype = 'float32')\n",
    "test_data_np = np.array(test, dtype='float32')"
   ]
  },
  {
   "cell_type": "code",
   "execution_count": 8,
   "id": "2e48cca3",
   "metadata": {},
   "outputs": [
    {
     "name": "stdout",
     "output_type": "stream",
     "text": [
      "(27455, 785)\n",
      "(7172, 785)\n"
     ]
    }
   ],
   "source": [
    "# afficher les dimms de dataFrames  \n",
    "print(train_data_np.shape)\n",
    "print(test_data_np.shape)"
   ]
  },
  {
   "cell_type": "code",
   "execution_count": 9,
   "id": "df456560",
   "metadata": {},
   "outputs": [],
   "source": [
    "# specifier les vrais resultats car la colonne \"label\" contient l'indice des caracteres dans l'alphabet\n",
    "class_names = ['A', 'B', 'C', 'D', 'E', 'F', 'G', 'H', 'I', 'J', 'K', 'L', 'M', \n",
    "               'N', 'O', 'P', 'Q', 'R', 'S', 'T', 'U', 'V', 'W', 'X', 'Y' ]"
   ]
  },
  {
   "cell_type": "code",
   "execution_count": 10,
   "id": "9db10b39",
   "metadata": {},
   "outputs": [
    {
     "data": {
      "text/plain": [
       "array([[  3., 107., 118., ..., 204., 203., 202.],\n",
       "       [  6., 155., 157., ..., 103., 135., 149.],\n",
       "       [  2., 187., 188., ..., 195., 194., 195.],\n",
       "       ...,\n",
       "       [ 18., 174., 174., ..., 202., 200., 200.],\n",
       "       [ 17., 177., 181., ...,  64.,  87.,  93.],\n",
       "       [ 23., 179., 180., ..., 205., 209., 215.]], dtype=float32)"
      ]
     },
     "execution_count": 10,
     "metadata": {},
     "output_type": "execute_result"
    }
   ],
   "source": [
    "train_data_np"
   ]
  },
  {
   "cell_type": "code",
   "execution_count": 12,
   "id": "1cee1314",
   "metadata": {},
   "outputs": [
    {
     "name": "stdout",
     "output_type": "stream",
     "text": [
      "lettre pour cette image:  A 0.0\n"
     ]
    },
    {
     "data": {
      "image/png": "[encoded data removed]",
      "text/plain": [
       "<Figure size 216x216 with 1 Axes>"
      ]
     },
     "metadata": {
      "needs_background": "light"
     },
     "output_type": "display_data"
    }
   ],
   "source": [
    "# afficher une image par en specifiant le caractere voulu\n",
    "while True:\n",
    "    i = random.randint(1,train.shape[0])\n",
    "    if(class_names[int(train_data_np[i,0])]=='A'):\n",
    "        fig1, ax1 = plt.subplots(figsize=(3,3))\n",
    "        plt.imshow(train_data_np[i,1:].reshape((28,28)),cmap=\"gray\") \n",
    "        print(\"lettre pour cette image: \", class_names[int(train_data_np[i,0])],train_data_np[i,0])\n",
    "        break"
   ]
  },
  {
   "cell_type": "code",
   "execution_count": 13,
   "id": "a20ba19a",
   "metadata": {},
   "outputs": [
    {
     "name": "stdout",
     "output_type": "stream",
     "text": [
      "lettre pour cette image:  Y 24.0\n"
     ]
    },
    {
     "data": {
      "image/png": "[encoded data removed]",
      "text/plain": [
       "<Figure size 216x216 with 1 Axes>"
      ]
     },
     "metadata": {
      "needs_background": "light"
     },
     "output_type": "display_data"
    }
   ],
   "source": [
    "# afficher une image par en specifiant l'indice du caractere voulu\n",
    "while True:\n",
    "    i = random.randint(1,train.shape[0])\n",
    "    if(int(train_data_np[i,0])==24):\n",
    "        fig1, ax1 = plt.subplots(figsize=(3,3))\n",
    "        plt.imshow(train_data_np[i,1:].reshape((28,28)),cmap=\"gray\") \n",
    "        print(\"lettre pour cette image: \", class_names[int(train_data_np[i,0])],train_data_np[i,0])\n",
    "        break"
   ]
  },
  {
   "cell_type": "code",
   "execution_count": 14,
   "id": "ff7fa90e",
   "metadata": {},
   "outputs": [
    {
     "data": {
      "text/plain": [
       "4     498\n",
       "7     436\n",
       "1     432\n",
       "12    394\n",
       "6     348\n",
       "15    347\n",
       "21    346\n",
       "24    332\n",
       "0     331\n",
       "10    331\n",
       "2     310\n",
       "13    291\n",
       "8     288\n",
       "23    267\n",
       "20    266\n",
       "19    248\n",
       "5     247\n",
       "14    246\n",
       "18    246\n",
       "3     245\n",
       "11    209\n",
       "22    206\n",
       "16    164\n",
       "17    144\n",
       "Name: label, dtype: int64"
      ]
     },
     "execution_count": 14,
     "metadata": {},
     "output_type": "execute_result"
    }
   ],
   "source": [
    "# afficher l'occurance de chaque caractere dans les données de test\n",
    "test['label'].value_counts()\n",
    "# on peut remarquer qu'il manque aux données les caractères \"Z\" et \"J\""
   ]
  },
  {
   "cell_type": "code",
   "execution_count": 15,
   "id": "de1db36f",
   "metadata": {},
   "outputs": [
    {
     "data": {
      "text/plain": [
       "Text(0.5, 1.0, 'Label')"
      ]
     },
     "execution_count": 15,
     "metadata": {},
     "output_type": "execute_result"
    },
    {
     "data": {
      "image/png": "[encoded data removed]",
      "text/plain": [
       "<Figure size 1296x1296 with 1 Axes>"
      ]
     },
     "metadata": {
      "needs_background": "light"
     },
     "output_type": "display_data"
    }
   ],
   "source": [
    "# afficher l'histogramme de l'occurance de chaque indice caractere dans les données de train\n",
    "fig = plt.figure(figsize=(18,18))\n",
    "ax1 = fig.add_subplot(221)\n",
    "train['label'].value_counts().plot(kind='bar', ax=ax1)\n",
    "ax1.set_ylabel('Count')\n",
    "ax1.set_title('Label')"
   ]
  },
  {
   "cell_type": "code",
   "execution_count": 16,
   "id": "8bf455a5",
   "metadata": {},
   "outputs": [
    {
     "name": "stdout",
     "output_type": "stream",
     "text": [
      "24\n"
     ]
    },
    {
     "data": {
      "text/plain": [
       "<BarContainer object of 24 artists>"
      ]
     },
     "execution_count": 16,
     "metadata": {},
     "output_type": "execute_result"
    },
    {
     "data": {
      "image/png": "[encoded data removed]",
      "text/plain": [
       "<Figure size 432x288 with 1 Axes>"
      ]
     },
     "metadata": {
      "needs_background": "light"
     },
     "output_type": "display_data"
    }
   ],
   "source": [
    "# afficher l'histogramme de l'occurance de chaque caractere dans les données de train\n",
    "k=train['label'].value_counts()\n",
    "a=dict()\n",
    "print(len(k))\n",
    "for i in range(len(k)+1):\n",
    "    try:\n",
    "        a[class_names[i]]=k[i]\n",
    "    except(Exception ):\n",
    "        pass\n",
    "\n",
    "plt.bar(a.keys(),a.values())\n"
   ]
  },
  {
   "cell_type": "code",
   "execution_count": 17,
   "id": "1ffde874",
   "metadata": {},
   "outputs": [],
   "source": [
    "# normalisation des valeurs en division par 255\n",
    "\n",
    "x_train = train_data_np[:, 1:] /255.\n",
    "x_test = test_data_np[:, 1:] /255."
   ]
  },
  {
   "cell_type": "code",
   "execution_count": 18,
   "id": "ba8b96ad",
   "metadata": {},
   "outputs": [
    {
     "name": "stdout",
     "output_type": "stream",
     "text": [
      "[[107. 118. 127. ... 204. 203. 202.]\n",
      " [155. 157. 156. ... 103. 135. 149.]\n",
      " [187. 188. 188. ... 195. 194. 195.]\n",
      " ...\n",
      " [174. 174. 174. ... 202. 200. 200.]\n",
      " [177. 181. 184. ...  64.  87.  93.]\n",
      " [179. 180. 180. ... 205. 209. 215.]]\n",
      "--------------------------------\n",
      "[[0.41960785 0.4627451  0.49803922 ... 0.8        0.79607844 0.7921569 ]\n",
      " [0.60784316 0.6156863  0.6117647  ... 0.40392157 0.5294118  0.58431375]\n",
      " [0.73333335 0.7372549  0.7372549  ... 0.7647059  0.7607843  0.7647059 ]\n",
      " ...\n",
      " [0.68235296 0.68235296 0.68235296 ... 0.7921569  0.78431374 0.78431374]\n",
      " [0.69411767 0.70980394 0.72156864 ... 0.2509804  0.34117648 0.3647059 ]\n",
      " [0.7019608  0.7058824  0.7058824  ... 0.8039216  0.81960785 0.84313726]]\n"
     ]
    }
   ],
   "source": [
    "# voir la différence entre avant et après normalisation\n",
    "\n",
    "print(train_data_np[:, 1:])\n",
    "print(\"--------------------------------\")\n",
    "print(x_train)"
   ]
  },
  {
   "cell_type": "code",
   "execution_count": 19,
   "id": "16ba5998",
   "metadata": {},
   "outputs": [],
   "source": [
    "# transformer chaque label de train en vecteur de catégorie\n",
    "\n",
    "y_train = train_data_np[:, 0]\n",
    "y_train_cat = to_categorical(y_train, num_classes=25)"
   ]
  },
  {
   "cell_type": "code",
   "execution_count": 20,
   "id": "5142df5c",
   "metadata": {},
   "outputs": [
    {
     "name": "stdout",
     "output_type": "stream",
     "text": [
      "[ 3.  6.  2. ... 18. 17. 23.]\n",
      "-------------------------\n",
      "[[0. 0. 0. ... 0. 0. 0.]\n",
      " [0. 0. 0. ... 0. 0. 0.]\n",
      " [0. 0. 1. ... 0. 0. 0.]\n",
      " ...\n",
      " [0. 0. 0. ... 0. 0. 0.]\n",
      " [0. 0. 0. ... 0. 0. 0.]\n",
      " [0. 0. 0. ... 0. 1. 0.]]\n"
     ]
    }
   ],
   "source": [
    "# voir la différence entre avant et après catégorisation\n",
    "\n",
    "print(y_train)\n",
    "print(\"-------------------------\")\n",
    "print(y_train_cat)"
   ]
  },
  {
   "cell_type": "code",
   "execution_count": 21,
   "id": "39f29d50",
   "metadata": {},
   "outputs": [],
   "source": [
    "# transformer chaque label de test en vecteur de catégorie\n",
    "\n",
    "y_test = test_data_np[:,0]\n",
    "y_test_cat = to_categorical(y_test, num_classes=25)"
   ]
  },
  {
   "cell_type": "code",
   "execution_count": 22,
   "id": "a0d3a924",
   "metadata": {},
   "outputs": [],
   "source": [
    "# reshape les données du (nb_ligne,785,1) en (nb_ligne,28,28,1)\n",
    "\n",
    "x_train = x_train.reshape(x_train.shape[0], *(28, 28, 1))\n",
    "x_test = x_test.reshape(x_test.shape[0], *(28, 28, 1))"
   ]
  },
  {
   "cell_type": "code",
   "execution_count": 24,
   "id": "bb53098d",
   "metadata": {},
   "outputs": [
    {
     "name": "stdout",
     "output_type": "stream",
     "text": [
      "(27455, 28, 28, 1)\n",
      "-----------------------\n",
      "(7172, 28, 28, 1)\n"
     ]
    }
   ],
   "source": [
    "print(x_train.shape)\n",
    "print('-----------------------')\n",
    "print(x_test.shape)"
   ]
  },
  {
   "cell_type": "code",
   "execution_count": 127,
   "id": "cac658c2",
   "metadata": {},
   "outputs": [],
   "source": [
    "from tensorflow.keras.layers import Dense,MaxPooling2D,Conv2D,Dropout,Flatten\n",
    "from tensorflow.keras.models import Sequential\n",
    "from tensorflow.keras.optimizers import Adam\n",
    "from tensorflow.keras.regularizers import l2,l1"
   ]
  },
  {
   "cell_type": "code",
   "execution_count": 131,
   "id": "694b4991",
   "metadata": {},
   "outputs": [],
   "source": [
    "# la structure du modèle, puis ajouter les couches internes\n",
    "model1 = Sequential()\n",
    "model1.add(Conv2D(32, (3, 3),padding=\"same\", input_shape = (28,28,1), kernel_regularizer=l2(0.0002), activation='relu'))\n",
    "model1.add(MaxPooling2D(pool_size = (2, 2)))\n",
    "model1.add(Dropout(0.2))\n",
    "\n",
    "model1.add(Conv2D(64, (3, 3), padding=\"same\" ,kernel_regularizer=l2(0.0002), activation='relu'))\n",
    "model1.add(MaxPooling2D(pool_size = (2, 2)))\n",
    "model1.add(Dropout(0.2))\n",
    "\n",
    "model1.add(Conv2D(128, (3, 3),padding=\"same\" ,kernel_regularizer=l2(0.0002),  activation='relu'))\n",
    "model1.add(MaxPooling2D(pool_size = (2, 2)))\n",
    "model1.add(Dropout(0.2))\n",
    "\n",
    "model1.add(Flatten())\n",
    "\n",
    "model1.add(Dense(128, activation = 'relu'))\n",
    "model1.add(Dense(25, activation = 'softmax'))\n",
    "\n"
   ]
  },
  {
   "cell_type": "code",
   "execution_count": 132,
   "id": "afa03641",
   "metadata": {},
   "outputs": [
    {
     "name": "stdout",
     "output_type": "stream",
     "text": [
      "Model: \"sequential_3\"\n",
      "_________________________________________________________________\n",
      " Layer (type)                Output Shape              Param #   \n",
      "=================================================================\n",
      " conv2d_9 (Conv2D)           (None, 28, 28, 32)        320       \n",
      "                                                                 \n",
      " max_pooling2d_9 (MaxPooling  (None, 14, 14, 32)       0         \n",
      " 2D)                                                             \n",
      "                                                                 \n",
      " dropout_9 (Dropout)         (None, 14, 14, 32)        0         \n",
      "                                                                 \n",
      " conv2d_10 (Conv2D)          (None, 14, 14, 64)        18496     \n",
      "                                                                 \n",
      " max_pooling2d_10 (MaxPoolin  (None, 7, 7, 64)         0         \n",
      " g2D)                                                            \n",
      "                                                                 \n",
      " dropout_10 (Dropout)        (None, 7, 7, 64)          0         \n",
      "                                                                 \n",
      " conv2d_11 (Conv2D)          (None, 7, 7, 128)         73856     \n",
      "                                                                 \n",
      " max_pooling2d_11 (MaxPoolin  (None, 3, 3, 128)        0         \n",
      " g2D)                                                            \n",
      "                                                                 \n",
      " dropout_11 (Dropout)        (None, 3, 3, 128)         0         \n",
      "                                                                 \n",
      " flatten_3 (Flatten)         (None, 1152)              0         \n",
      "                                                                 \n",
      " dense_6 (Dense)             (None, 128)               147584    \n",
      "                                                                 \n",
      " dense_7 (Dense)             (None, 25)                3225      \n",
      "                                                                 \n",
      "=================================================================\n",
      "Total params: 243,481\n",
      "Trainable params: 243,481\n",
      "Non-trainable params: 0\n",
      "_________________________________________________________________\n"
     ]
    }
   ],
   "source": [
    "# compilation du premier modele\n",
    "model1.compile(loss ='categorical_crossentropy', optimizer='adam',metrics =['acc'])\n",
    "# afficher les informations sur la structure du modele\n",
    "model1.summary()"
   ]
  },
  {
   "cell_type": "code",
   "execution_count": 133,
   "id": "2c7cc4d4",
   "metadata": {},
   "outputs": [
    {
     "name": "stdout",
     "output_type": "stream",
     "text": [
      "Epoch 1/10\n",
      "215/215 [==============================] - 13s 59ms/step - loss: 1.9017 - acc: 0.4243 - val_loss: 0.7336 - val_acc: 0.7854\n",
      "Epoch 2/10\n",
      "215/215 [==============================] - 13s 59ms/step - loss: 0.4044 - acc: 0.8777 - val_loss: 0.3188 - val_acc: 0.9175\n",
      "Epoch 3/10\n",
      "215/215 [==============================] - 13s 60ms/step - loss: 0.2006 - acc: 0.9526 - val_loss: 0.2078 - val_acc: 0.9525\n",
      "Epoch 4/10\n",
      "215/215 [==============================] - 13s 59ms/step - loss: 0.1368 - acc: 0.9773 - val_loss: 0.2150 - val_acc: 0.9575\n",
      "Epoch 5/10\n",
      "215/215 [==============================] - 13s 59ms/step - loss: 0.1125 - acc: 0.9849 - val_loss: 0.1712 - val_acc: 0.9589\n",
      "Epoch 6/10\n",
      "215/215 [==============================] - 13s 60ms/step - loss: 0.0930 - acc: 0.9910 - val_loss: 0.1734 - val_acc: 0.9586\n",
      "Epoch 7/10\n",
      "215/215 [==============================] - 13s 59ms/step - loss: 0.0871 - acc: 0.9922 - val_loss: 0.1632 - val_acc: 0.9696\n",
      "Epoch 8/10\n",
      "215/215 [==============================] - 13s 60ms/step - loss: 0.0769 - acc: 0.9945 - val_loss: 0.1661 - val_acc: 0.9635\n",
      "Epoch 9/10\n",
      "215/215 [==============================] - 13s 58ms/step - loss: 0.0688 - acc: 0.9962 - val_loss: 0.1615 - val_acc: 0.9657\n",
      "Epoch 10/10\n",
      "215/215 [==============================] - 12s 58ms/step - loss: 0.0653 - acc: 0.9960 - val_loss: 0.1487 - val_acc: 0.9649\n"
     ]
    }
   ],
   "source": [
    "# Training du modele\n",
    "\n",
    "history1 = model1.fit(x_train, y_train_cat, batch_size = 128, epochs = 10, verbose = 1, validation_data = (x_test, y_test_cat))"
   ]
  },
  {
   "cell_type": "code",
   "execution_count": 134,
   "id": "0f4587bf",
   "metadata": {},
   "outputs": [],
   "source": [
    "# sauvegarder le modele\n",
    "\n",
    "model1.save('saved_models/model1.hdf5')"
   ]
  },
  {
   "cell_type": "code",
   "execution_count": 135,
   "id": "507a39e9",
   "metadata": {},
   "outputs": [
    {
     "name": "stdout",
     "output_type": "stream",
     "text": [
      "225/225 [==============================] - 1s 5ms/step - loss: 0.1487 - acc: 0.9649\n"
     ]
    }
   ],
   "source": [
    "# evaluation du modele\n",
    "\n",
    "loss,accuracy=model1.evaluate(x_test,y_test_cat)"
   ]
  },
  {
   "cell_type": "code",
   "execution_count": 138,
   "id": "e5dffff4",
   "metadata": {},
   "outputs": [],
   "source": [
    "# creation de la structure du deuxieme modèle, puis ajouter les couches internes\n",
    "\n",
    "model2 = Sequential()\n",
    "\n",
    "model2.add(Conv2D(32, (3, 3), input_shape = (28,28,1), activation='relu'))\n",
    "model2.add(MaxPooling2D(pool_size = (2, 2)))\n",
    "model2.add(Dropout(0.2))\n",
    "\n",
    "model2.add(Conv2D(64, (3, 3), activation='relu'))\n",
    "model2.add(MaxPooling2D(pool_size = (2, 2)))\n",
    "model2.add(Dropout(0.2))\n",
    "\n",
    "model2.add(Conv2D(128, (3, 3), activation='relu'))\n",
    "model2.add(MaxPooling2D(pool_size = (2, 2)))\n",
    "model2.add(Dropout(0.2))\n",
    "\n",
    "model2.add(Flatten())\n",
    "\n",
    "model2.add(Dense(128, activation = 'relu'))\n",
    "model2.add(Dense(25, activation = 'softmax'))"
   ]
  },
  {
   "cell_type": "code",
   "execution_count": 139,
   "id": "b6a9e8b9",
   "metadata": {},
   "outputs": [
    {
     "name": "stdout",
     "output_type": "stream",
     "text": [
      "Model: \"sequential_5\"\n",
      "_________________________________________________________________\n",
      " Layer (type)                Output Shape              Param #   \n",
      "=================================================================\n",
      " conv2d_15 (Conv2D)          (None, 26, 26, 32)        320       \n",
      "                                                                 \n",
      " max_pooling2d_15 (MaxPoolin  (None, 13, 13, 32)       0         \n",
      " g2D)                                                            \n",
      "                                                                 \n",
      " dropout_15 (Dropout)        (None, 13, 13, 32)        0         \n",
      "                                                                 \n",
      " conv2d_16 (Conv2D)          (None, 11, 11, 64)        18496     \n",
      "                                                                 \n",
      " max_pooling2d_16 (MaxPoolin  (None, 5, 5, 64)         0         \n",
      " g2D)                                                            \n",
      "                                                                 \n",
      " dropout_16 (Dropout)        (None, 5, 5, 64)          0         \n",
      "                                                                 \n",
      " conv2d_17 (Conv2D)          (None, 3, 3, 128)         73856     \n",
      "                                                                 \n",
      " max_pooling2d_17 (MaxPoolin  (None, 1, 1, 128)        0         \n",
      " g2D)                                                            \n",
      "                                                                 \n",
      " dropout_17 (Dropout)        (None, 1, 1, 128)         0         \n",
      "                                                                 \n",
      " flatten_5 (Flatten)         (None, 128)               0         \n",
      "                                                                 \n",
      " dense_10 (Dense)            (None, 128)               16512     \n",
      "                                                                 \n",
      " dense_11 (Dense)            (None, 25)                3225      \n",
      "                                                                 \n",
      "=================================================================\n",
      "Total params: 112,409\n",
      "Trainable params: 112,409\n",
      "Non-trainable params: 0\n",
      "_________________________________________________________________\n"
     ]
    }
   ],
   "source": [
    "# compilation du premier modele\n",
    "\n",
    "model2.compile(loss ='categorical_crossentropy', optimizer='adam',metrics =['acc'])\n",
    "\n",
    "# afficher les informations sur la structure du modele\n",
    "\n",
    "model2.summary()"
   ]
  },
  {
   "cell_type": "code",
   "execution_count": 140,
   "id": "54918cd9",
   "metadata": {},
   "outputs": [
    {
     "name": "stdout",
     "output_type": "stream",
     "text": [
      "Epoch 1/20\n",
      "215/215 [==============================] - 9s 38ms/step - loss: 2.5610 - acc: 0.2129 - val_loss: 1.4483 - val_acc: 0.5554\n",
      "Epoch 2/20\n",
      "215/215 [==============================] - 8s 38ms/step - loss: 1.0181 - acc: 0.6569 - val_loss: 0.7024 - val_acc: 0.7623\n",
      "Epoch 3/20\n",
      "215/215 [==============================] - 8s 38ms/step - loss: 0.5883 - acc: 0.7987 - val_loss: 0.4714 - val_acc: 0.8274\n",
      "Epoch 4/20\n",
      "215/215 [==============================] - 8s 39ms/step - loss: 0.3822 - acc: 0.8698 - val_loss: 0.3449 - val_acc: 0.8784\n",
      "Epoch 5/20\n",
      "215/215 [==============================] - 8s 38ms/step - loss: 0.2575 - acc: 0.9140 - val_loss: 0.2875 - val_acc: 0.8978\n",
      "Epoch 6/20\n",
      "215/215 [==============================] - 8s 39ms/step - loss: 0.1858 - acc: 0.9375 - val_loss: 0.2502 - val_acc: 0.9037\n",
      "Epoch 7/20\n",
      "215/215 [==============================] - 8s 38ms/step - loss: 0.1382 - acc: 0.9564 - val_loss: 0.2126 - val_acc: 0.9235\n",
      "Epoch 8/20\n",
      "215/215 [==============================] - 8s 38ms/step - loss: 0.1078 - acc: 0.9657 - val_loss: 0.1926 - val_acc: 0.9274\n",
      "Epoch 9/20\n",
      "215/215 [==============================] - 8s 37ms/step - loss: 0.0891 - acc: 0.9724 - val_loss: 0.1832 - val_acc: 0.9382\n",
      "Epoch 10/20\n",
      "215/215 [==============================] - 8s 38ms/step - loss: 0.0698 - acc: 0.9782 - val_loss: 0.1695 - val_acc: 0.9374\n",
      "Epoch 11/20\n",
      "215/215 [==============================] - 8s 38ms/step - loss: 0.0603 - acc: 0.9823 - val_loss: 0.1753 - val_acc: 0.9374\n",
      "Epoch 12/20\n",
      "215/215 [==============================] - 8s 38ms/step - loss: 0.0581 - acc: 0.9817 - val_loss: 0.1710 - val_acc: 0.9451\n",
      "Epoch 13/20\n",
      "215/215 [==============================] - 8s 38ms/step - loss: 0.0493 - acc: 0.9850 - val_loss: 0.1615 - val_acc: 0.9473\n",
      "Epoch 14/20\n",
      "215/215 [==============================] - 8s 38ms/step - loss: 0.0414 - acc: 0.9861 - val_loss: 0.1832 - val_acc: 0.9459\n",
      "Epoch 15/20\n",
      "215/215 [==============================] - 8s 38ms/step - loss: 0.0333 - acc: 0.9894 - val_loss: 0.1785 - val_acc: 0.9420\n",
      "Epoch 16/20\n",
      "215/215 [==============================] - 8s 38ms/step - loss: 0.0340 - acc: 0.9897 - val_loss: 0.1746 - val_acc: 0.9381\n",
      "Epoch 17/20\n",
      "215/215 [==============================] - 8s 37ms/step - loss: 0.0318 - acc: 0.9899 - val_loss: 0.1587 - val_acc: 0.9519\n",
      "Epoch 18/20\n",
      "215/215 [==============================] - 8s 37ms/step - loss: 0.0310 - acc: 0.9903 - val_loss: 0.1755 - val_acc: 0.9483\n",
      "Epoch 19/20\n",
      "215/215 [==============================] - 8s 38ms/step - loss: 0.0270 - acc: 0.9923 - val_loss: 0.1686 - val_acc: 0.9448\n",
      "Epoch 20/20\n",
      "215/215 [==============================] - 8s 37ms/step - loss: 0.0253 - acc: 0.9925 - val_loss: 0.1924 - val_acc: 0.9449\n"
     ]
    }
   ],
   "source": [
    "# training du deuxieme modele\n",
    "\n",
    "history2 = model2.fit(x_train, y_train_cat, batch_size = 128, epochs = 20, verbose = 1, validation_data = (x_test, y_test_cat))"
   ]
  },
  {
   "cell_type": "code",
   "execution_count": 141,
   "id": "5f0ec2f7",
   "metadata": {},
   "outputs": [],
   "source": [
    "# sauvegarder le modele\n",
    "\n",
    "model2.save('saved_models/model2.hdf5')"
   ]
  },
  {
   "cell_type": "code",
   "execution_count": 143,
   "id": "e2e609c2",
   "metadata": {},
   "outputs": [
    {
     "name": "stdout",
     "output_type": "stream",
     "text": [
      "225/225 [==============================] - 1s 3ms/step - loss: 0.1924 - acc: 0.9449\n"
     ]
    }
   ],
   "source": [
    "# evaluation du modele\n",
    "\n",
    "loss,accuracy=model2.evaluate(x_test,y_test_cat)"
   ]
  },
  {
   "cell_type": "code",
   "execution_count": 144,
   "id": "8214f22f",
   "metadata": {},
   "outputs": [],
   "source": [
    "# creation de la structure du troisieme modèle, puis ajouter les couches internes\n",
    "\n",
    "model3 = Sequential()\n",
    "\n",
    "model3.add(Conv2D(32, (3, 3), input_shape = (28,28,1), activation='relu'))\n",
    "model3.add(MaxPooling2D(pool_size = (2, 2)))\n",
    "model3.add(Dropout(0.2))\n",
    "\n",
    "model3.add(Conv2D(64, (3, 3), activation='relu'))\n",
    "model3.add(MaxPooling2D(pool_size = (2, 2)))\n",
    "model3.add(Dropout(0.2))\n",
    "\n",
    "model3.add(Flatten())\n",
    "\n",
    "model3.add(Dense(25, activation = 'softmax'))"
   ]
  },
  {
   "cell_type": "code",
   "execution_count": 145,
   "id": "8cb57375",
   "metadata": {},
   "outputs": [
    {
     "name": "stdout",
     "output_type": "stream",
     "text": [
      "Model: \"sequential_6\"\n",
      "_________________________________________________________________\n",
      " Layer (type)                Output Shape              Param #   \n",
      "=================================================================\n",
      " conv2d_18 (Conv2D)          (None, 26, 26, 32)        320       \n",
      "                                                                 \n",
      " max_pooling2d_18 (MaxPoolin  (None, 13, 13, 32)       0         \n",
      " g2D)                                                            \n",
      "                                                                 \n",
      " dropout_18 (Dropout)        (None, 13, 13, 32)        0         \n",
      "                                                                 \n",
      " conv2d_19 (Conv2D)          (None, 11, 11, 64)        18496     \n",
      "                                                                 \n",
      " max_pooling2d_19 (MaxPoolin  (None, 5, 5, 64)         0         \n",
      " g2D)                                                            \n",
      "                                                                 \n",
      " dropout_19 (Dropout)        (None, 5, 5, 64)          0         \n",
      "                                                                 \n",
      " flatten_6 (Flatten)         (None, 1600)              0         \n",
      "                                                                 \n",
      " dense_12 (Dense)            (None, 25)                40025     \n",
      "                                                                 \n",
      "=================================================================\n",
      "Total params: 58,841\n",
      "Trainable params: 58,841\n",
      "Non-trainable params: 0\n",
      "_________________________________________________________________\n"
     ]
    }
   ],
   "source": [
    "# compilation du troisieme modele\n",
    "\n",
    "model3.compile(loss ='categorical_crossentropy', optimizer='adam',metrics =['acc'])\n",
    "\n",
    "# afficher les informations sur la structure du modele\n",
    "\n",
    "model3.summary()"
   ]
  },
  {
   "cell_type": "code",
   "execution_count": 146,
   "id": "0dc75aa1",
   "metadata": {},
   "outputs": [
    {
     "name": "stdout",
     "output_type": "stream",
     "text": [
      "Epoch 1/10\n",
      "215/215 [==============================] - 8s 35ms/step - loss: 1.9540 - acc: 0.4358 - val_loss: 1.0063 - val_acc: 0.6741\n",
      "Epoch 2/10\n",
      "215/215 [==============================] - 7s 35ms/step - loss: 0.5475 - acc: 0.8349 - val_loss: 0.5269 - val_acc: 0.8388\n",
      "Epoch 3/10\n",
      "215/215 [==============================] - 7s 35ms/step - loss: 0.2575 - acc: 0.9240 - val_loss: 0.3822 - val_acc: 0.8847\n",
      "Epoch 4/10\n",
      "215/215 [==============================] - 7s 35ms/step - loss: 0.1385 - acc: 0.9633 - val_loss: 0.3326 - val_acc: 0.8921\n",
      "Epoch 5/10\n",
      "215/215 [==============================] - 7s 35ms/step - loss: 0.0862 - acc: 0.9793 - val_loss: 0.3096 - val_acc: 0.9049\n",
      "Epoch 6/10\n",
      "215/215 [==============================] - 7s 34ms/step - loss: 0.0601 - acc: 0.9863 - val_loss: 0.2861 - val_acc: 0.9110\n",
      "Epoch 7/10\n",
      "215/215 [==============================] - 8s 36ms/step - loss: 0.0407 - acc: 0.9920 - val_loss: 0.3261 - val_acc: 0.9098\n",
      "Epoch 8/10\n",
      "215/215 [==============================] - 8s 35ms/step - loss: 0.0312 - acc: 0.9934 - val_loss: 0.2626 - val_acc: 0.9230\n",
      "Epoch 9/10\n",
      "215/215 [==============================] - 7s 35ms/step - loss: 0.0242 - acc: 0.9955 - val_loss: 0.2736 - val_acc: 0.9208\n",
      "Epoch 10/10\n",
      "215/215 [==============================] - 7s 34ms/step - loss: 0.0196 - acc: 0.9965 - val_loss: 0.2616 - val_acc: 0.9299\n"
     ]
    }
   ],
   "source": [
    "# training du troisieme modele\n",
    "\n",
    "history3 = model3.fit(x_train, y_train_cat, batch_size = 128, epochs = 10, verbose = 1, validation_data = (x_test, y_test_cat))"
   ]
  },
  {
   "cell_type": "code",
   "execution_count": 147,
   "id": "cef6a742",
   "metadata": {},
   "outputs": [],
   "source": [
    "# sauvegarder le modele\n",
    "\n",
    "model3.save('saved_models/model3.hdf5')"
   ]
  },
  {
   "cell_type": "code",
   "execution_count": 149,
   "id": "b11389c1",
   "metadata": {},
   "outputs": [
    {
     "name": "stdout",
     "output_type": "stream",
     "text": [
      "225/225 [==============================] - 1s 3ms/step - loss: 0.2616 - acc: 0.9299\n"
     ]
    }
   ],
   "source": [
    "# evaluation du modele\n",
    "\n",
    "loss,accuracy=model3.evaluate(x_test,y_test_cat)"
   ]
  },
  {
   "cell_type": "code",
   "execution_count": 38,
   "id": "afa63a22",
   "metadata": {},
   "outputs": [],
   "source": [
    "from keras.models import load_model\n",
    "from sklearn.metrics import accuracy_score"
   ]
  },
  {
   "cell_type": "code",
   "execution_count": 39,
   "id": "87648a31",
   "metadata": {},
   "outputs": [],
   "source": [
    "# importer les trois modeles\n",
    "\n",
    "model1 = load_model('./saved_models/model1.hdf5')\n",
    "model2 = load_model('./saved_models/model2.hdf5')\n",
    "model3 = load_model('./saved_models/model3.hdf5')\n",
    "\n",
    "# regrouper les trois modeles\n",
    "\n",
    "models = [model1, model2, model3]"
   ]
  },
  {
   "cell_type": "code",
   "execution_count": 40,
   "id": "3b82c3b9",
   "metadata": {},
   "outputs": [
    {
     "name": "stdout",
     "output_type": "stream",
     "text": [
      "(3, 7172, 25)\n"
     ]
    }
   ],
   "source": [
    "# predire les données de test\n",
    "\n",
    "preds = [model.predict(x_test) for model in models]\n",
    "preds=np.array(preds)\n",
    "\n",
    "# afficher les dims du predictions\n",
    "\n",
    "print(preds.shape)"
   ]
  },
  {
   "cell_type": "code",
   "execution_count": 41,
   "id": "70177e1a",
   "metadata": {},
   "outputs": [
    {
     "name": "stdout",
     "output_type": "stream",
     "text": [
      "(7172, 25)\n"
     ]
    }
   ],
   "source": [
    "# faire la sommes des vecteurs de chaque ligne (une valeur pour chaque modele)\n",
    "summed = np.sum(preds, axis=0)\n",
    "print(summed.shape)"
   ]
  },
  {
   "cell_type": "code",
   "execution_count": 42,
   "id": "bfcfd153",
   "metadata": {},
   "outputs": [
    {
     "name": "stdout",
     "output_type": "stream",
     "text": [
      "(7172,)\n",
      "---------------\n",
      "[ 6  5 10  0  3 21 10 14  3  7  8  8 21 12  7  4 22  0  7  7]\n"
     ]
    }
   ],
   "source": [
    "#pour avoir l'indice du caractere à predire on prend l'indice du valeur maximale du vecteur de longeur 25\n",
    "\n",
    "ensemble_prediction = np.argmax(summed, axis=1)\n",
    "print(ensemble_prediction.shape)\n",
    "print('---------------')\n",
    "\n",
    "# afficher les prediction du 20 premieres ligne\n",
    "\n",
    "print(ensemble_prediction[:20])"
   ]
  },
  {
   "cell_type": "code",
   "execution_count": 43,
   "id": "28ef89c4",
   "metadata": {},
   "outputs": [],
   "source": [
    "# predire pour chaque modele\n",
    "prediction1 = model1.predict(x_test)\n",
    "prediction2 = model2.predict(x_test)\n",
    "prediction3 = model3.predict(x_test)"
   ]
  },
  {
   "cell_type": "code",
   "execution_count": 45,
   "id": "9eb8799b",
   "metadata": {},
   "outputs": [
    {
     "name": "stdout",
     "output_type": "stream",
     "text": [
      "Accuracy Score for model1 =  0.9648633575013943\n",
      "Accuracy Score for model2 =  0.9449247071946458\n",
      "Accuracy Score for model3 =  0.9298661461238148\n",
      "Accuracy Score for average ensemble =  0.9691857222532069\n"
     ]
    }
   ],
   "source": [
    "# afficher l'accuracy pour chaque modele et les comparer avec l'accuracy du regroupement des modeles\n",
    "accuracy1 = accuracy_score(y_test, np.argmax(prediction1, axis=1))\n",
    "accuracy2 = accuracy_score(y_test, np.argmax(prediction2, axis=1))\n",
    "accuracy3 = accuracy_score(y_test, np.argmax(prediction3, axis=1))\n",
    "ensemble_accuracy = accuracy_score(y_test, ensemble_prediction)\n",
    "\n",
    "print('Accuracy Score for model1 = ', accuracy1)\n",
    "print('Accuracy Score for model2 = ', accuracy2)\n",
    "print('Accuracy Score for model3 = ', accuracy3)\n",
    "print('Accuracy Score for average ensemble = ', ensemble_accuracy)"
   ]
  },
  {
   "cell_type": "code",
   "execution_count": 49,
   "id": "4bb9f7ab",
   "metadata": {},
   "outputs": [
    {
     "data": {
      "text/plain": [
       "6.0"
      ]
     },
     "execution_count": 49,
     "metadata": {},
     "output_type": "execute_result"
    }
   ],
   "source": [
    "# valeur réelle de la première ligne de x_test\n",
    "y_test[0]"
   ]
  },
  {
   "cell_type": "code",
   "execution_count": 50,
   "id": "66ffb9b9",
   "metadata": {},
   "outputs": [
    {
     "data": {
      "text/plain": [
       "6"
      ]
     },
     "execution_count": 50,
     "metadata": {},
     "output_type": "execute_result"
    }
   ],
   "source": [
    "# prediction de la première ligne de x_test\n",
    "ensemble_prediction[0]"
   ]
  },
  {
   "cell_type": "code",
   "execution_count": null,
   "id": "106e1bbe",
   "metadata": {},
   "outputs": [],
   "source": []
  }
 ],
 "metadata": {
  "kernelspec": {
   "display_name": "Python 3",
   "language": "python",
   "name": "python3"
  },
  "language_info": {
   "codemirror_mode": {
    "name": "ipython",
    "version": 3
   },
   "file_extension": ".py",
   "mimetype": "text/x-python",
   "name": "python",
   "nbconvert_exporter": "python",
   "pygments_lexer": "ipython3",
   "version": "3.8.8"
  }
 },
 "nbformat": 4,
 "nbformat_minor": 5
}
