{
 "cells": [
  {
   "cell_type": "code",
   "execution_count": 43,
   "id": "dfdaa60a",
   "metadata": {},
   "outputs": [],
   "source": [
    "import os\n",
    "import cv2\n",
    "import numpy as np\n",
    "import matplotlib.pyplot as plt\n"
   ]
  },
  {
   "cell_type": "code",
   "execution_count": 47,
   "id": "a3be580e",
   "metadata": {},
   "outputs": [],
   "source": [
    "path=\"./dataHands\"\n",
    "hd=[]\n",
    "for img in os.listdir(path):\n",
    "    img_array=cv2.imread(os.path.join(path,img),cv2.IMREAD_GRAYSCALE)\n",
    "    new_array=cv2.resize(img_array,(IMG_SIZE,IMG_SIZE))\n",
    "    hd.append(new_array)\n",
    "hd=np.array(hd)"
   ]
  },
  {
   "cell_type": "code",
   "execution_count": 45,
   "id": "d3a664b8",
   "metadata": {},
   "outputs": [
    {
     "name": "stdout",
     "output_type": "stream",
     "text": [
      "(208, 158)\n",
      "(28, 28)\n",
      "(7, 28, 28)\n"
     ]
    }
   ],
   "source": [
    "print(img_array.shape)\n",
    "print(new_array.shape)\n",
    "print(hd.shape)"
   ]
  },
  {
   "cell_type": "code",
   "execution_count": 46,
   "id": "b1dd3ea3",
   "metadata": {
    "scrolled": true
   },
   "outputs": [
    {
     "data": {
      "image/png": "[encoded data removed]",
      "text/plain": [
       "<Figure size 432x288 with 1 Axes>"
      ]
     },
     "metadata": {
      "needs_background": "light"
     },
     "output_type": "display_data"
    }
   ],
   "source": [
    "IMG_SIZE=28\n",
    "\n",
    "new_array=cv2.resize(img_array,(IMG_SIZE,IMG_SIZE))\n",
    "plt.imshow(new_array,cmap=\"gray\")\n",
    "plt.show()"
   ]
  },
  {
   "cell_type": "code",
   "execution_count": null,
   "id": "69c455a2",
   "metadata": {},
   "outputs": [],
   "source": []
  }
 ],
 "metadata": {
  "kernelspec": {
   "display_name": "Python 3",
   "language": "python",
   "name": "python3"
  },
  "language_info": {
   "codemirror_mode": {
    "name": "ipython",
    "version": 3
   },
   "file_extension": ".py",
   "mimetype": "text/x-python",
   "name": "python",
   "nbconvert_exporter": "python",
   "pygments_lexer": "ipython3",
   "version": "3.8.8"
  }
 },
 "nbformat": 4,
 "nbformat_minor": 5
}
